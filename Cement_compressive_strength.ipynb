{
 "cells": [
  {
   "cell_type": "code",
   "execution_count": 1,
   "id": "5f026cf9",
   "metadata": {},
   "outputs": [],
   "source": [
    "import pandas as pd\n",
    "import numpy as np\n",
    "import matplotlib.pyplot as plt\n",
    "import seaborn as sns\n",
    "from sklearn.preprocessing import StandardScaler\n",
    "from sklearn.model_selection import train_test_split\n",
    "\n",
    "#models\n",
    "from sklearn.linear_model import SGDRegressor, Lasso, ElasticNet, Ridge\n",
    "from sklearn.svm import SVR\n",
    "from sklearn.ensemble import RandomForestRegressor, AdaBoostRegressor, ExtraTreesRegressor\n",
    "from sklearn.neighbors import KNeighborsRegressor\n",
    "from sklearn.model_selection import GridSearchCV, RandomizedSearchCV\n",
    "\n",
    "#metrics\n",
    "from sklearn.metrics import mean_squared_error"
   ]
  },
  {
   "cell_type": "code",
   "execution_count": 2,
   "id": "7ee8da48",
   "metadata": {},
   "outputs": [
    {
     "data": {
      "text/html": [
       "<div>\n",
       "<style scoped>\n",
       "    .dataframe tbody tr th:only-of-type {\n",
       "        vertical-align: middle;\n",
       "    }\n",
       "\n",
       "    .dataframe tbody tr th {\n",
       "        vertical-align: top;\n",
       "    }\n",
       "\n",
       "    .dataframe thead th {\n",
       "        text-align: right;\n",
       "    }\n",
       "</style>\n",
       "<table border=\"1\" class=\"dataframe\">\n",
       "  <thead>\n",
       "    <tr style=\"text-align: right;\">\n",
       "      <th></th>\n",
       "      <th>cement</th>\n",
       "      <th>blast_furnace_slag</th>\n",
       "      <th>fly_ash</th>\n",
       "      <th>water</th>\n",
       "      <th>superplasticizer</th>\n",
       "      <th>coarse_aggregate</th>\n",
       "      <th>fine_aggregate</th>\n",
       "      <th>age</th>\n",
       "      <th>concrete_compressive_strength</th>\n",
       "    </tr>\n",
       "  </thead>\n",
       "  <tbody>\n",
       "    <tr>\n",
       "      <th>0</th>\n",
       "      <td>540.0</td>\n",
       "      <td>0.0</td>\n",
       "      <td>0.0</td>\n",
       "      <td>162.0</td>\n",
       "      <td>2.5</td>\n",
       "      <td>1040.0</td>\n",
       "      <td>676.0</td>\n",
       "      <td>28</td>\n",
       "      <td>79.99</td>\n",
       "    </tr>\n",
       "    <tr>\n",
       "      <th>1</th>\n",
       "      <td>540.0</td>\n",
       "      <td>0.0</td>\n",
       "      <td>0.0</td>\n",
       "      <td>162.0</td>\n",
       "      <td>2.5</td>\n",
       "      <td>1055.0</td>\n",
       "      <td>676.0</td>\n",
       "      <td>28</td>\n",
       "      <td>61.89</td>\n",
       "    </tr>\n",
       "    <tr>\n",
       "      <th>2</th>\n",
       "      <td>332.5</td>\n",
       "      <td>142.5</td>\n",
       "      <td>0.0</td>\n",
       "      <td>228.0</td>\n",
       "      <td>0.0</td>\n",
       "      <td>932.0</td>\n",
       "      <td>594.0</td>\n",
       "      <td>270</td>\n",
       "      <td>40.27</td>\n",
       "    </tr>\n",
       "    <tr>\n",
       "      <th>3</th>\n",
       "      <td>332.5</td>\n",
       "      <td>142.5</td>\n",
       "      <td>0.0</td>\n",
       "      <td>228.0</td>\n",
       "      <td>0.0</td>\n",
       "      <td>932.0</td>\n",
       "      <td>594.0</td>\n",
       "      <td>365</td>\n",
       "      <td>41.05</td>\n",
       "    </tr>\n",
       "    <tr>\n",
       "      <th>4</th>\n",
       "      <td>198.6</td>\n",
       "      <td>132.4</td>\n",
       "      <td>0.0</td>\n",
       "      <td>192.0</td>\n",
       "      <td>0.0</td>\n",
       "      <td>978.4</td>\n",
       "      <td>825.5</td>\n",
       "      <td>360</td>\n",
       "      <td>44.30</td>\n",
       "    </tr>\n",
       "    <tr>\n",
       "      <th>...</th>\n",
       "      <td>...</td>\n",
       "      <td>...</td>\n",
       "      <td>...</td>\n",
       "      <td>...</td>\n",
       "      <td>...</td>\n",
       "      <td>...</td>\n",
       "      <td>...</td>\n",
       "      <td>...</td>\n",
       "      <td>...</td>\n",
       "    </tr>\n",
       "    <tr>\n",
       "      <th>1025</th>\n",
       "      <td>276.4</td>\n",
       "      <td>116.0</td>\n",
       "      <td>90.3</td>\n",
       "      <td>179.6</td>\n",
       "      <td>8.9</td>\n",
       "      <td>870.1</td>\n",
       "      <td>768.3</td>\n",
       "      <td>28</td>\n",
       "      <td>44.28</td>\n",
       "    </tr>\n",
       "    <tr>\n",
       "      <th>1026</th>\n",
       "      <td>322.2</td>\n",
       "      <td>0.0</td>\n",
       "      <td>115.6</td>\n",
       "      <td>196.0</td>\n",
       "      <td>10.4</td>\n",
       "      <td>817.9</td>\n",
       "      <td>813.4</td>\n",
       "      <td>28</td>\n",
       "      <td>31.18</td>\n",
       "    </tr>\n",
       "    <tr>\n",
       "      <th>1027</th>\n",
       "      <td>148.5</td>\n",
       "      <td>139.4</td>\n",
       "      <td>108.6</td>\n",
       "      <td>192.7</td>\n",
       "      <td>6.1</td>\n",
       "      <td>892.4</td>\n",
       "      <td>780.0</td>\n",
       "      <td>28</td>\n",
       "      <td>23.70</td>\n",
       "    </tr>\n",
       "    <tr>\n",
       "      <th>1028</th>\n",
       "      <td>159.1</td>\n",
       "      <td>186.7</td>\n",
       "      <td>0.0</td>\n",
       "      <td>175.6</td>\n",
       "      <td>11.3</td>\n",
       "      <td>989.6</td>\n",
       "      <td>788.9</td>\n",
       "      <td>28</td>\n",
       "      <td>32.77</td>\n",
       "    </tr>\n",
       "    <tr>\n",
       "      <th>1029</th>\n",
       "      <td>260.9</td>\n",
       "      <td>100.5</td>\n",
       "      <td>78.3</td>\n",
       "      <td>200.6</td>\n",
       "      <td>8.6</td>\n",
       "      <td>864.5</td>\n",
       "      <td>761.5</td>\n",
       "      <td>28</td>\n",
       "      <td>32.40</td>\n",
       "    </tr>\n",
       "  </tbody>\n",
       "</table>\n",
       "<p>1030 rows × 9 columns</p>\n",
       "</div>"
      ],
      "text/plain": [
       "      cement  blast_furnace_slag  fly_ash  water  superplasticizer  \\\n",
       "0      540.0                 0.0      0.0  162.0               2.5   \n",
       "1      540.0                 0.0      0.0  162.0               2.5   \n",
       "2      332.5               142.5      0.0  228.0               0.0   \n",
       "3      332.5               142.5      0.0  228.0               0.0   \n",
       "4      198.6               132.4      0.0  192.0               0.0   \n",
       "...      ...                 ...      ...    ...               ...   \n",
       "1025   276.4               116.0     90.3  179.6               8.9   \n",
       "1026   322.2                 0.0    115.6  196.0              10.4   \n",
       "1027   148.5               139.4    108.6  192.7               6.1   \n",
       "1028   159.1               186.7      0.0  175.6              11.3   \n",
       "1029   260.9               100.5     78.3  200.6               8.6   \n",
       "\n",
       "      coarse_aggregate  fine_aggregate   age  concrete_compressive_strength  \n",
       "0               1040.0            676.0   28                          79.99  \n",
       "1               1055.0            676.0   28                          61.89  \n",
       "2                932.0            594.0  270                          40.27  \n",
       "3                932.0            594.0  365                          41.05  \n",
       "4                978.4            825.5  360                          44.30  \n",
       "...                ...              ...  ...                            ...  \n",
       "1025             870.1            768.3   28                          44.28  \n",
       "1026             817.9            813.4   28                          31.18  \n",
       "1027             892.4            780.0   28                          23.70  \n",
       "1028             989.6            788.9   28                          32.77  \n",
       "1029             864.5            761.5   28                          32.40  \n",
       "\n",
       "[1030 rows x 9 columns]"
      ]
     },
     "execution_count": 2,
     "metadata": {},
     "output_type": "execute_result"
    }
   ],
   "source": [
    "df = pd.read_csv('data/concrete_data.csv')\n",
    "df"
   ]
  },
  {
   "cell_type": "code",
   "execution_count": 3,
   "id": "5c77c861",
   "metadata": {},
   "outputs": [
    {
     "name": "stdout",
     "output_type": "stream",
     "text": [
      "<class 'pandas.core.frame.DataFrame'>\n",
      "RangeIndex: 1030 entries, 0 to 1029\n",
      "Data columns (total 9 columns):\n",
      " #   Column                         Non-Null Count  Dtype  \n",
      "---  ------                         --------------  -----  \n",
      " 0   cement                         1030 non-null   float64\n",
      " 1   blast_furnace_slag             1030 non-null   float64\n",
      " 2   fly_ash                        1030 non-null   float64\n",
      " 3   water                          1030 non-null   float64\n",
      " 4   superplasticizer               1030 non-null   float64\n",
      " 5   coarse_aggregate               1030 non-null   float64\n",
      " 6   fine_aggregate                 1030 non-null   float64\n",
      " 7   age                            1030 non-null   int64  \n",
      " 8   concrete_compressive_strength  1030 non-null   float64\n",
      "dtypes: float64(8), int64(1)\n",
      "memory usage: 72.5 KB\n"
     ]
    }
   ],
   "source": [
    "df.info()"
   ]
  },
  {
   "cell_type": "code",
   "execution_count": 4,
   "id": "537a036c",
   "metadata": {},
   "outputs": [
    {
     "data": {
      "text/html": [
       "<div>\n",
       "<style scoped>\n",
       "    .dataframe tbody tr th:only-of-type {\n",
       "        vertical-align: middle;\n",
       "    }\n",
       "\n",
       "    .dataframe tbody tr th {\n",
       "        vertical-align: top;\n",
       "    }\n",
       "\n",
       "    .dataframe thead th {\n",
       "        text-align: right;\n",
       "    }\n",
       "</style>\n",
       "<table border=\"1\" class=\"dataframe\">\n",
       "  <thead>\n",
       "    <tr style=\"text-align: right;\">\n",
       "      <th></th>\n",
       "      <th>cement</th>\n",
       "      <th>blast_furnace_slag</th>\n",
       "      <th>fly_ash</th>\n",
       "      <th>water</th>\n",
       "      <th>superplasticizer</th>\n",
       "      <th>coarse_aggregate</th>\n",
       "      <th>fine_aggregate</th>\n",
       "      <th>age</th>\n",
       "      <th>concrete_compressive_strength</th>\n",
       "    </tr>\n",
       "  </thead>\n",
       "  <tbody>\n",
       "    <tr>\n",
       "      <th>count</th>\n",
       "      <td>1030.000000</td>\n",
       "      <td>1030.000000</td>\n",
       "      <td>1030.000000</td>\n",
       "      <td>1030.000000</td>\n",
       "      <td>1030.000000</td>\n",
       "      <td>1030.000000</td>\n",
       "      <td>1030.000000</td>\n",
       "      <td>1030.000000</td>\n",
       "      <td>1030.000000</td>\n",
       "    </tr>\n",
       "    <tr>\n",
       "      <th>mean</th>\n",
       "      <td>281.167864</td>\n",
       "      <td>73.895825</td>\n",
       "      <td>54.188350</td>\n",
       "      <td>181.567282</td>\n",
       "      <td>6.204660</td>\n",
       "      <td>972.918932</td>\n",
       "      <td>773.580485</td>\n",
       "      <td>45.662136</td>\n",
       "      <td>35.817961</td>\n",
       "    </tr>\n",
       "    <tr>\n",
       "      <th>std</th>\n",
       "      <td>104.506364</td>\n",
       "      <td>86.279342</td>\n",
       "      <td>63.997004</td>\n",
       "      <td>21.354219</td>\n",
       "      <td>5.973841</td>\n",
       "      <td>77.753954</td>\n",
       "      <td>80.175980</td>\n",
       "      <td>63.169912</td>\n",
       "      <td>16.705742</td>\n",
       "    </tr>\n",
       "    <tr>\n",
       "      <th>min</th>\n",
       "      <td>102.000000</td>\n",
       "      <td>0.000000</td>\n",
       "      <td>0.000000</td>\n",
       "      <td>121.800000</td>\n",
       "      <td>0.000000</td>\n",
       "      <td>801.000000</td>\n",
       "      <td>594.000000</td>\n",
       "      <td>1.000000</td>\n",
       "      <td>2.330000</td>\n",
       "    </tr>\n",
       "    <tr>\n",
       "      <th>25%</th>\n",
       "      <td>192.375000</td>\n",
       "      <td>0.000000</td>\n",
       "      <td>0.000000</td>\n",
       "      <td>164.900000</td>\n",
       "      <td>0.000000</td>\n",
       "      <td>932.000000</td>\n",
       "      <td>730.950000</td>\n",
       "      <td>7.000000</td>\n",
       "      <td>23.710000</td>\n",
       "    </tr>\n",
       "    <tr>\n",
       "      <th>50%</th>\n",
       "      <td>272.900000</td>\n",
       "      <td>22.000000</td>\n",
       "      <td>0.000000</td>\n",
       "      <td>185.000000</td>\n",
       "      <td>6.400000</td>\n",
       "      <td>968.000000</td>\n",
       "      <td>779.500000</td>\n",
       "      <td>28.000000</td>\n",
       "      <td>34.445000</td>\n",
       "    </tr>\n",
       "    <tr>\n",
       "      <th>75%</th>\n",
       "      <td>350.000000</td>\n",
       "      <td>142.950000</td>\n",
       "      <td>118.300000</td>\n",
       "      <td>192.000000</td>\n",
       "      <td>10.200000</td>\n",
       "      <td>1029.400000</td>\n",
       "      <td>824.000000</td>\n",
       "      <td>56.000000</td>\n",
       "      <td>46.135000</td>\n",
       "    </tr>\n",
       "    <tr>\n",
       "      <th>max</th>\n",
       "      <td>540.000000</td>\n",
       "      <td>359.400000</td>\n",
       "      <td>200.100000</td>\n",
       "      <td>247.000000</td>\n",
       "      <td>32.200000</td>\n",
       "      <td>1145.000000</td>\n",
       "      <td>992.600000</td>\n",
       "      <td>365.000000</td>\n",
       "      <td>82.600000</td>\n",
       "    </tr>\n",
       "  </tbody>\n",
       "</table>\n",
       "</div>"
      ],
      "text/plain": [
       "            cement  blast_furnace_slag      fly_ash        water  \\\n",
       "count  1030.000000         1030.000000  1030.000000  1030.000000   \n",
       "mean    281.167864           73.895825    54.188350   181.567282   \n",
       "std     104.506364           86.279342    63.997004    21.354219   \n",
       "min     102.000000            0.000000     0.000000   121.800000   \n",
       "25%     192.375000            0.000000     0.000000   164.900000   \n",
       "50%     272.900000           22.000000     0.000000   185.000000   \n",
       "75%     350.000000          142.950000   118.300000   192.000000   \n",
       "max     540.000000          359.400000   200.100000   247.000000   \n",
       "\n",
       "       superplasticizer  coarse_aggregate  fine_aggregate           age  \\\n",
       "count       1030.000000       1030.000000      1030.000000  1030.000000   \n",
       "mean           6.204660        972.918932       773.580485    45.662136   \n",
       "std            5.973841         77.753954        80.175980    63.169912   \n",
       "min            0.000000        801.000000       594.000000     1.000000   \n",
       "25%            0.000000        932.000000       730.950000     7.000000   \n",
       "50%            6.400000        968.000000       779.500000    28.000000   \n",
       "75%           10.200000       1029.400000       824.000000    56.000000   \n",
       "max           32.200000       1145.000000       992.600000   365.000000   \n",
       "\n",
       "       concrete_compressive_strength  \n",
       "count                    1030.000000  \n",
       "mean                       35.817961  \n",
       "std                        16.705742  \n",
       "min                         2.330000  \n",
       "25%                        23.710000  \n",
       "50%                        34.445000  \n",
       "75%                        46.135000  \n",
       "max                        82.600000  "
      ]
     },
     "execution_count": 4,
     "metadata": {},
     "output_type": "execute_result"
    }
   ],
   "source": [
    "df.describe()"
   ]
  },
  {
   "cell_type": "code",
   "execution_count": 5,
   "id": "ec3e304d",
   "metadata": {},
   "outputs": [
    {
     "data": {
      "text/plain": [
       "cement                           0\n",
       "blast_furnace_slag               0\n",
       "fly_ash                          0\n",
       "water                            0\n",
       "superplasticizer                 0\n",
       "coarse_aggregate                 0\n",
       "fine_aggregate                   0\n",
       "age                              0\n",
       "concrete_compressive_strength    0\n",
       "dtype: int64"
      ]
     },
     "execution_count": 5,
     "metadata": {},
     "output_type": "execute_result"
    }
   ],
   "source": [
    "df.isna().sum()"
   ]
  },
  {
   "cell_type": "markdown",
   "id": "b29add5a",
   "metadata": {},
   "source": [
    "No null values"
   ]
  },
  {
   "cell_type": "code",
   "execution_count": 6,
   "id": "d58ee1ac",
   "metadata": {},
   "outputs": [
    {
     "data": {
      "image/png": "[encoded data removed]",
      "text/plain": [
       "<Figure size 1500x1000 with 9 Axes>"
      ]
     },
     "metadata": {},
     "output_type": "display_data"
    }
   ],
   "source": [
    "df.hist(figsize=(15,10),color='crimson')\n",
    "plt.show()"
   ]
  },
  {
   "cell_type": "markdown",
   "id": "0bb67002",
   "metadata": {},
   "source": [
    "too many values of fly_ash, superplasticizer and blast_furnance_slag are initialized to zero"
   ]
  },
  {
   "cell_type": "code",
   "execution_count": 7,
   "id": "7c7608f3",
   "metadata": {},
   "outputs": [
    {
     "data": {
      "text/plain": [
       "<Axes: >"
      ]
     },
     "execution_count": 7,
     "metadata": {},
     "output_type": "execute_result"
    },
    {
     "data": {
      "image/png": "[encoded data removed]",
      "text/plain": [
       "<Figure size 1000x1000 with 2 Axes>"
      ]
     },
     "metadata": {},
     "output_type": "display_data"
    }
   ],
   "source": [
    "plt.figure(figsize=(10,10))\n",
    "sns.heatmap(df.corr(),linewidths=1,cmap='YlOrRd',annot=True)"
   ]
  },
  {
   "cell_type": "code",
   "execution_count": 8,
   "id": "61e76bab",
   "metadata": {},
   "outputs": [
    {
     "data": {
      "text/plain": [
       "<Axes: >"
      ]
     },
     "execution_count": 8,
     "metadata": {},
     "output_type": "execute_result"
    },
    {
     "data": {
      "image/png": "[encoded data removed]",
      "text/plain": [
       "<Figure size 640x480 with 1 Axes>"
      ]
     },
     "metadata": {},
     "output_type": "display_data"
    }
   ],
   "source": [
    "correlation=df.corr()['concrete_compressive_strength'].sort_values()\n",
    "correlation.plot(kind='barh',color='crimson')"
   ]
  },
  {
   "cell_type": "markdown",
   "id": "964dcdc2",
   "metadata": {},
   "source": [
    "_cement and superplasticizer is positively correlated whereas water is negetively correlated_"
   ]
  },
  {
   "cell_type": "code",
   "execution_count": 9,
   "id": "c7f02fec",
   "metadata": {},
   "outputs": [
    {
     "name": "stdout",
     "output_type": "stream",
     "text": [
      "cement 0.0\n",
      "blast_furnace_slag 45.728155339805824\n",
      "fly_ash 54.95145631067962\n",
      "water 0.0\n",
      "superplasticizer 36.79611650485437\n",
      "coarse_aggregate 0.0\n",
      "fine_aggregate  0.0\n",
      "age 0.0\n",
      "concrete_compressive_strength 0.0\n"
     ]
    }
   ],
   "source": [
    "#Finding number of values initialized to zero\n",
    "for (colname,colval) in df.items():\n",
    "    val = (colval == 0.0).sum()/len(df)*100\n",
    "    print(colname, val)"
   ]
  },
  {
   "cell_type": "code",
   "execution_count": 10,
   "id": "f4ac2a97",
   "metadata": {},
   "outputs": [
    {
     "data": {
      "text/plain": [
       "(73.89582524271846, 136.15867620751345)"
      ]
     },
     "execution_count": 10,
     "metadata": {},
     "output_type": "execute_result"
    }
   ],
   "source": [
    "# Mean with and without zero \n",
    "df.blast_furnace_slag.mean(), df.blast_furnace_slag.sum()/(len(df)-(df.blast_furnace_slag == 0.0).sum())"
   ]
  },
  {
   "cell_type": "code",
   "execution_count": 11,
   "id": "c89ed885",
   "metadata": {},
   "outputs": [],
   "source": [
    "col = ['blast_furnance_slag','fly_ash','superplasticizer']\n",
    "before = [df.blast_furnace_slag.mean(),df.fly_ash.mean(),df.superplasticizer.mean()]\n",
    "after = [df.blast_furnace_slag.sum()/(len(df)-(df.blast_furnace_slag == 0.0).sum()),df.fly_ash.sum()/(len(df)-(df.fly_ash == 0.0).sum()),df.superplasticizer.sum()/(len(df)-(df.superplasticizer == 0.0).sum())]"
   ]
  },
  {
   "cell_type": "code",
   "execution_count": 12,
   "id": "7804e3ba",
   "metadata": {},
   "outputs": [
    {
     "data": {
      "text/html": [
       "<div>\n",
       "<style scoped>\n",
       "    .dataframe tbody tr th:only-of-type {\n",
       "        vertical-align: middle;\n",
       "    }\n",
       "\n",
       "    .dataframe tbody tr th {\n",
       "        vertical-align: top;\n",
       "    }\n",
       "\n",
       "    .dataframe thead th {\n",
       "        text-align: right;\n",
       "    }\n",
       "</style>\n",
       "<table border=\"1\" class=\"dataframe\">\n",
       "  <thead>\n",
       "    <tr style=\"text-align: right;\">\n",
       "      <th></th>\n",
       "      <th>feature</th>\n",
       "      <th>mean_before</th>\n",
       "      <th>mean_after</th>\n",
       "    </tr>\n",
       "  </thead>\n",
       "  <tbody>\n",
       "    <tr>\n",
       "      <th>0</th>\n",
       "      <td>blast_furnance_slag</td>\n",
       "      <td>73.895825</td>\n",
       "      <td>136.158676</td>\n",
       "    </tr>\n",
       "    <tr>\n",
       "      <th>1</th>\n",
       "      <td>fly_ash</td>\n",
       "      <td>54.188350</td>\n",
       "      <td>120.288793</td>\n",
       "    </tr>\n",
       "    <tr>\n",
       "      <th>2</th>\n",
       "      <td>superplasticizer</td>\n",
       "      <td>6.204660</td>\n",
       "      <td>9.816897</td>\n",
       "    </tr>\n",
       "  </tbody>\n",
       "</table>\n",
       "</div>"
      ],
      "text/plain": [
       "               feature  mean_before  mean_after\n",
       "0  blast_furnance_slag    73.895825  136.158676\n",
       "1              fly_ash    54.188350  120.288793\n",
       "2     superplasticizer     6.204660    9.816897"
      ]
     },
     "execution_count": 12,
     "metadata": {},
     "output_type": "execute_result"
    }
   ],
   "source": [
    "mean_df = pd.DataFrame(list(zip(col,before,after)), columns=['feature','mean_before','mean_after'])\n",
    "mean_df"
   ]
  },
  {
   "cell_type": "code",
   "execution_count": 13,
   "id": "2d20d160",
   "metadata": {},
   "outputs": [
    {
     "data": {
      "image/png": "[encoded data removed]",
      "text/plain": [
       "<Figure size 640x480 with 1 Axes>"
      ]
     },
     "metadata": {},
     "output_type": "display_data"
    }
   ],
   "source": [
    "width = 0.25\n",
    "\n",
    "ind = np.arange(len(mean_df))\n",
    "xvals = mean_df.mean_before\n",
    "bar1 = plt.bar(ind, xvals, width, color = 'r')\n",
    "  \n",
    "yvals = mean_df.mean_after\n",
    "bar2 = plt.bar(ind+width, yvals, width, color='g')\n",
    "  \n",
    "plt.ylabel('Range')\n",
    "plt.xlabel('Features')\n",
    "plt.title(\"Mean comparison\")\n",
    "  \n",
    "plt.xticks(ind+width,mean_df.feature)\n",
    "plt.legend( (bar1, bar2), ('before', 'after') )\n",
    "plt.show()"
   ]
  },
  {
   "cell_type": "markdown",
   "id": "57fe05de",
   "metadata": {},
   "source": [
    "### Changing the values from zero to natural mean"
   ]
  },
  {
   "cell_type": "code",
   "execution_count": 14,
   "id": "c604634a",
   "metadata": {},
   "outputs": [
    {
     "data": {
      "text/html": [
       "<div>\n",
       "<style scoped>\n",
       "    .dataframe tbody tr th:only-of-type {\n",
       "        vertical-align: middle;\n",
       "    }\n",
       "\n",
       "    .dataframe tbody tr th {\n",
       "        vertical-align: top;\n",
       "    }\n",
       "\n",
       "    .dataframe thead th {\n",
       "        text-align: right;\n",
       "    }\n",
       "</style>\n",
       "<table border=\"1\" class=\"dataframe\">\n",
       "  <thead>\n",
       "    <tr style=\"text-align: right;\">\n",
       "      <th></th>\n",
       "      <th>cement</th>\n",
       "      <th>blast_furnace_slag</th>\n",
       "      <th>fly_ash</th>\n",
       "      <th>water</th>\n",
       "      <th>superplasticizer</th>\n",
       "      <th>coarse_aggregate</th>\n",
       "      <th>fine_aggregate</th>\n",
       "      <th>age</th>\n",
       "      <th>concrete_compressive_strength</th>\n",
       "    </tr>\n",
       "  </thead>\n",
       "  <tbody>\n",
       "    <tr>\n",
       "      <th>0</th>\n",
       "      <td>540.0</td>\n",
       "      <td>0.0</td>\n",
       "      <td>0.0</td>\n",
       "      <td>162.0</td>\n",
       "      <td>2.5</td>\n",
       "      <td>1040.0</td>\n",
       "      <td>676.0</td>\n",
       "      <td>28</td>\n",
       "      <td>79.99</td>\n",
       "    </tr>\n",
       "    <tr>\n",
       "      <th>1</th>\n",
       "      <td>540.0</td>\n",
       "      <td>0.0</td>\n",
       "      <td>0.0</td>\n",
       "      <td>162.0</td>\n",
       "      <td>2.5</td>\n",
       "      <td>1055.0</td>\n",
       "      <td>676.0</td>\n",
       "      <td>28</td>\n",
       "      <td>61.89</td>\n",
       "    </tr>\n",
       "    <tr>\n",
       "      <th>2</th>\n",
       "      <td>332.5</td>\n",
       "      <td>142.5</td>\n",
       "      <td>0.0</td>\n",
       "      <td>228.0</td>\n",
       "      <td>0.0</td>\n",
       "      <td>932.0</td>\n",
       "      <td>594.0</td>\n",
       "      <td>270</td>\n",
       "      <td>40.27</td>\n",
       "    </tr>\n",
       "    <tr>\n",
       "      <th>3</th>\n",
       "      <td>332.5</td>\n",
       "      <td>142.5</td>\n",
       "      <td>0.0</td>\n",
       "      <td>228.0</td>\n",
       "      <td>0.0</td>\n",
       "      <td>932.0</td>\n",
       "      <td>594.0</td>\n",
       "      <td>365</td>\n",
       "      <td>41.05</td>\n",
       "    </tr>\n",
       "    <tr>\n",
       "      <th>4</th>\n",
       "      <td>198.6</td>\n",
       "      <td>132.4</td>\n",
       "      <td>0.0</td>\n",
       "      <td>192.0</td>\n",
       "      <td>0.0</td>\n",
       "      <td>978.4</td>\n",
       "      <td>825.5</td>\n",
       "      <td>360</td>\n",
       "      <td>44.30</td>\n",
       "    </tr>\n",
       "  </tbody>\n",
       "</table>\n",
       "</div>"
      ],
      "text/plain": [
       "   cement  blast_furnace_slag  fly_ash  water  superplasticizer  \\\n",
       "0   540.0                 0.0      0.0  162.0               2.5   \n",
       "1   540.0                 0.0      0.0  162.0               2.5   \n",
       "2   332.5               142.5      0.0  228.0               0.0   \n",
       "3   332.5               142.5      0.0  228.0               0.0   \n",
       "4   198.6               132.4      0.0  192.0               0.0   \n",
       "\n",
       "   coarse_aggregate  fine_aggregate   age  concrete_compressive_strength  \n",
       "0            1040.0            676.0   28                          79.99  \n",
       "1            1055.0            676.0   28                          61.89  \n",
       "2             932.0            594.0  270                          40.27  \n",
       "3             932.0            594.0  365                          41.05  \n",
       "4             978.4            825.5  360                          44.30  "
      ]
     },
     "execution_count": 14,
     "metadata": {},
     "output_type": "execute_result"
    }
   ],
   "source": [
    "df1 = df.copy()\n",
    "df1.head()"
   ]
  },
  {
   "cell_type": "code",
   "execution_count": 15,
   "id": "1122d571",
   "metadata": {},
   "outputs": [],
   "source": [
    "mean_blast_fur = df.blast_furnace_slag.sum()/(len(df)-(df.blast_furnace_slag == 0.0).sum())\n",
    "mean_fly_ash = df.fly_ash.sum()/(len(df)-(df.fly_ash == 0.0).sum())\n",
    "mean_superplasticizer = df.superplasticizer.sum()/(len(df)-(df.superplasticizer == 0.0).sum())"
   ]
  },
  {
   "cell_type": "code",
   "execution_count": 16,
   "id": "dcb81605",
   "metadata": {},
   "outputs": [],
   "source": [
    "df1.blast_furnace_slag.replace(0.0,mean_blast_fur,inplace=True)\n",
    "df1.fly_ash.replace(0.0,mean_fly_ash,inplace=True)\n",
    "df1.superplasticizer.replace(0.0,mean_superplasticizer,inplace=True)"
   ]
  },
  {
   "cell_type": "code",
   "execution_count": 17,
   "id": "fece6f9b",
   "metadata": {},
   "outputs": [
    {
     "data": {
      "text/html": [
       "<div>\n",
       "<style scoped>\n",
       "    .dataframe tbody tr th:only-of-type {\n",
       "        vertical-align: middle;\n",
       "    }\n",
       "\n",
       "    .dataframe tbody tr th {\n",
       "        vertical-align: top;\n",
       "    }\n",
       "\n",
       "    .dataframe thead th {\n",
       "        text-align: right;\n",
       "    }\n",
       "</style>\n",
       "<table border=\"1\" class=\"dataframe\">\n",
       "  <thead>\n",
       "    <tr style=\"text-align: right;\">\n",
       "      <th></th>\n",
       "      <th>cement</th>\n",
       "      <th>blast_furnace_slag</th>\n",
       "      <th>fly_ash</th>\n",
       "      <th>water</th>\n",
       "      <th>superplasticizer</th>\n",
       "      <th>coarse_aggregate</th>\n",
       "      <th>fine_aggregate</th>\n",
       "      <th>age</th>\n",
       "      <th>concrete_compressive_strength</th>\n",
       "    </tr>\n",
       "  </thead>\n",
       "  <tbody>\n",
       "    <tr>\n",
       "      <th>0</th>\n",
       "      <td>540.0</td>\n",
       "      <td>136.158676</td>\n",
       "      <td>120.288793</td>\n",
       "      <td>162.0</td>\n",
       "      <td>2.500000</td>\n",
       "      <td>1040.0</td>\n",
       "      <td>676.0</td>\n",
       "      <td>28</td>\n",
       "      <td>79.99</td>\n",
       "    </tr>\n",
       "    <tr>\n",
       "      <th>1</th>\n",
       "      <td>540.0</td>\n",
       "      <td>136.158676</td>\n",
       "      <td>120.288793</td>\n",
       "      <td>162.0</td>\n",
       "      <td>2.500000</td>\n",
       "      <td>1055.0</td>\n",
       "      <td>676.0</td>\n",
       "      <td>28</td>\n",
       "      <td>61.89</td>\n",
       "    </tr>\n",
       "    <tr>\n",
       "      <th>2</th>\n",
       "      <td>332.5</td>\n",
       "      <td>142.500000</td>\n",
       "      <td>120.288793</td>\n",
       "      <td>228.0</td>\n",
       "      <td>9.816897</td>\n",
       "      <td>932.0</td>\n",
       "      <td>594.0</td>\n",
       "      <td>270</td>\n",
       "      <td>40.27</td>\n",
       "    </tr>\n",
       "    <tr>\n",
       "      <th>3</th>\n",
       "      <td>332.5</td>\n",
       "      <td>142.500000</td>\n",
       "      <td>120.288793</td>\n",
       "      <td>228.0</td>\n",
       "      <td>9.816897</td>\n",
       "      <td>932.0</td>\n",
       "      <td>594.0</td>\n",
       "      <td>365</td>\n",
       "      <td>41.05</td>\n",
       "    </tr>\n",
       "    <tr>\n",
       "      <th>4</th>\n",
       "      <td>198.6</td>\n",
       "      <td>132.400000</td>\n",
       "      <td>120.288793</td>\n",
       "      <td>192.0</td>\n",
       "      <td>9.816897</td>\n",
       "      <td>978.4</td>\n",
       "      <td>825.5</td>\n",
       "      <td>360</td>\n",
       "      <td>44.30</td>\n",
       "    </tr>\n",
       "    <tr>\n",
       "      <th>...</th>\n",
       "      <td>...</td>\n",
       "      <td>...</td>\n",
       "      <td>...</td>\n",
       "      <td>...</td>\n",
       "      <td>...</td>\n",
       "      <td>...</td>\n",
       "      <td>...</td>\n",
       "      <td>...</td>\n",
       "      <td>...</td>\n",
       "    </tr>\n",
       "    <tr>\n",
       "      <th>1025</th>\n",
       "      <td>276.4</td>\n",
       "      <td>116.000000</td>\n",
       "      <td>90.300000</td>\n",
       "      <td>179.6</td>\n",
       "      <td>8.900000</td>\n",
       "      <td>870.1</td>\n",
       "      <td>768.3</td>\n",
       "      <td>28</td>\n",
       "      <td>44.28</td>\n",
       "    </tr>\n",
       "    <tr>\n",
       "      <th>1026</th>\n",
       "      <td>322.2</td>\n",
       "      <td>136.158676</td>\n",
       "      <td>115.600000</td>\n",
       "      <td>196.0</td>\n",
       "      <td>10.400000</td>\n",
       "      <td>817.9</td>\n",
       "      <td>813.4</td>\n",
       "      <td>28</td>\n",
       "      <td>31.18</td>\n",
       "    </tr>\n",
       "    <tr>\n",
       "      <th>1027</th>\n",
       "      <td>148.5</td>\n",
       "      <td>139.400000</td>\n",
       "      <td>108.600000</td>\n",
       "      <td>192.7</td>\n",
       "      <td>6.100000</td>\n",
       "      <td>892.4</td>\n",
       "      <td>780.0</td>\n",
       "      <td>28</td>\n",
       "      <td>23.70</td>\n",
       "    </tr>\n",
       "    <tr>\n",
       "      <th>1028</th>\n",
       "      <td>159.1</td>\n",
       "      <td>186.700000</td>\n",
       "      <td>120.288793</td>\n",
       "      <td>175.6</td>\n",
       "      <td>11.300000</td>\n",
       "      <td>989.6</td>\n",
       "      <td>788.9</td>\n",
       "      <td>28</td>\n",
       "      <td>32.77</td>\n",
       "    </tr>\n",
       "    <tr>\n",
       "      <th>1029</th>\n",
       "      <td>260.9</td>\n",
       "      <td>100.500000</td>\n",
       "      <td>78.300000</td>\n",
       "      <td>200.6</td>\n",
       "      <td>8.600000</td>\n",
       "      <td>864.5</td>\n",
       "      <td>761.5</td>\n",
       "      <td>28</td>\n",
       "      <td>32.40</td>\n",
       "    </tr>\n",
       "  </tbody>\n",
       "</table>\n",
       "<p>1030 rows × 9 columns</p>\n",
       "</div>"
      ],
      "text/plain": [
       "      cement  blast_furnace_slag     fly_ash  water  superplasticizer  \\\n",
       "0      540.0          136.158676  120.288793  162.0          2.500000   \n",
       "1      540.0          136.158676  120.288793  162.0          2.500000   \n",
       "2      332.5          142.500000  120.288793  228.0          9.816897   \n",
       "3      332.5          142.500000  120.288793  228.0          9.816897   \n",
       "4      198.6          132.400000  120.288793  192.0          9.816897   \n",
       "...      ...                 ...         ...    ...               ...   \n",
       "1025   276.4          116.000000   90.300000  179.6          8.900000   \n",
       "1026   322.2          136.158676  115.600000  196.0         10.400000   \n",
       "1027   148.5          139.400000  108.600000  192.7          6.100000   \n",
       "1028   159.1          186.700000  120.288793  175.6         11.300000   \n",
       "1029   260.9          100.500000   78.300000  200.6          8.600000   \n",
       "\n",
       "      coarse_aggregate  fine_aggregate   age  concrete_compressive_strength  \n",
       "0               1040.0            676.0   28                          79.99  \n",
       "1               1055.0            676.0   28                          61.89  \n",
       "2                932.0            594.0  270                          40.27  \n",
       "3                932.0            594.0  365                          41.05  \n",
       "4                978.4            825.5  360                          44.30  \n",
       "...                ...              ...  ...                            ...  \n",
       "1025             870.1            768.3   28                          44.28  \n",
       "1026             817.9            813.4   28                          31.18  \n",
       "1027             892.4            780.0   28                          23.70  \n",
       "1028             989.6            788.9   28                          32.77  \n",
       "1029             864.5            761.5   28                          32.40  \n",
       "\n",
       "[1030 rows x 9 columns]"
      ]
     },
     "execution_count": 17,
     "metadata": {},
     "output_type": "execute_result"
    }
   ],
   "source": [
    "df1"
   ]
  },
  {
   "cell_type": "code",
   "execution_count": 18,
   "id": "71d0a9c8",
   "metadata": {},
   "outputs": [
    {
     "data": {
      "text/plain": [
       "(0.13482926149740498, -0.07704071174496709)"
      ]
     },
     "execution_count": 18,
     "metadata": {},
     "output_type": "execute_result"
    }
   ],
   "source": [
    "(df['blast_furnace_slag']. corr(df['concrete_compressive_strength']),\n",
    "df1['blast_furnace_slag']. corr(df1['concrete_compressive_strength']))"
   ]
  },
  {
   "cell_type": "code",
   "execution_count": 19,
   "id": "4eea3b13",
   "metadata": {},
   "outputs": [
    {
     "data": {
      "text/plain": [
       "(-0.10575491629731354, -0.13237830611105028)"
      ]
     },
     "execution_count": 19,
     "metadata": {},
     "output_type": "execute_result"
    }
   ],
   "source": [
    "(df['fly_ash']. corr(df['concrete_compressive_strength']),\n",
    "df1['fly_ash']. corr(df1['concrete_compressive_strength']))"
   ]
  },
  {
   "cell_type": "code",
   "execution_count": 20,
   "id": "9a5f9a0b",
   "metadata": {},
   "outputs": [
    {
     "data": {
      "text/plain": [
       "(0.36607882718851936, 0.22614181674841552)"
      ]
     },
     "execution_count": 20,
     "metadata": {},
     "output_type": "execute_result"
    }
   ],
   "source": [
    "(df['superplasticizer']. corr(df['concrete_compressive_strength']),\n",
    "df1['superplasticizer']. corr(df1['concrete_compressive_strength']))"
   ]
  },
  {
   "cell_type": "code",
   "execution_count": 21,
   "id": "a1ad5f94",
   "metadata": {},
   "outputs": [],
   "source": [
    "col = ['blast_furnance_slag','fly_ash','superplasticizer']\n",
    "corr_before = [df['blast_furnace_slag']. corr(df['concrete_compressive_strength']),df['fly_ash']. corr(df['concrete_compressive_strength']),df['superplasticizer']. corr(df['concrete_compressive_strength'])]\n",
    "corr_after = [df1['blast_furnace_slag']. corr(df1['concrete_compressive_strength']),df1['fly_ash']. corr(df1['concrete_compressive_strength']),df1['superplasticizer']. corr(df1['concrete_compressive_strength'])]"
   ]
  },
  {
   "cell_type": "code",
   "execution_count": 22,
   "id": "0d584d29",
   "metadata": {},
   "outputs": [
    {
     "data": {
      "text/html": [
       "<div>\n",
       "<style scoped>\n",
       "    .dataframe tbody tr th:only-of-type {\n",
       "        vertical-align: middle;\n",
       "    }\n",
       "\n",
       "    .dataframe tbody tr th {\n",
       "        vertical-align: top;\n",
       "    }\n",
       "\n",
       "    .dataframe thead th {\n",
       "        text-align: right;\n",
       "    }\n",
       "</style>\n",
       "<table border=\"1\" class=\"dataframe\">\n",
       "  <thead>\n",
       "    <tr style=\"text-align: right;\">\n",
       "      <th></th>\n",
       "      <th>features</th>\n",
       "      <th>corr_before</th>\n",
       "      <th>corr_after</th>\n",
       "    </tr>\n",
       "  </thead>\n",
       "  <tbody>\n",
       "    <tr>\n",
       "      <th>0</th>\n",
       "      <td>blast_furnance_slag</td>\n",
       "      <td>0.134829</td>\n",
       "      <td>-0.077041</td>\n",
       "    </tr>\n",
       "    <tr>\n",
       "      <th>1</th>\n",
       "      <td>fly_ash</td>\n",
       "      <td>-0.105755</td>\n",
       "      <td>-0.132378</td>\n",
       "    </tr>\n",
       "    <tr>\n",
       "      <th>2</th>\n",
       "      <td>superplasticizer</td>\n",
       "      <td>0.366079</td>\n",
       "      <td>0.226142</td>\n",
       "    </tr>\n",
       "  </tbody>\n",
       "</table>\n",
       "</div>"
      ],
      "text/plain": [
       "              features  corr_before  corr_after\n",
       "0  blast_furnance_slag     0.134829   -0.077041\n",
       "1              fly_ash    -0.105755   -0.132378\n",
       "2     superplasticizer     0.366079    0.226142"
      ]
     },
     "execution_count": 22,
     "metadata": {},
     "output_type": "execute_result"
    }
   ],
   "source": [
    "corr_comp_df = pd.DataFrame(list(zip(col,corr_before,corr_after)),columns=['features','corr_before','corr_after'])\n",
    "corr_comp_df"
   ]
  },
  {
   "cell_type": "markdown",
   "id": "32aae359",
   "metadata": {},
   "source": [
    "correlation of only fly_ash increased so we'll keep rest of the dataset same and change 0's of fly_ash to it's mean"
   ]
  },
  {
   "cell_type": "code",
   "execution_count": 23,
   "id": "4a7f5095",
   "metadata": {},
   "outputs": [
    {
     "data": {
      "text/html": [
       "<div>\n",
       "<style scoped>\n",
       "    .dataframe tbody tr th:only-of-type {\n",
       "        vertical-align: middle;\n",
       "    }\n",
       "\n",
       "    .dataframe tbody tr th {\n",
       "        vertical-align: top;\n",
       "    }\n",
       "\n",
       "    .dataframe thead th {\n",
       "        text-align: right;\n",
       "    }\n",
       "</style>\n",
       "<table border=\"1\" class=\"dataframe\">\n",
       "  <thead>\n",
       "    <tr style=\"text-align: right;\">\n",
       "      <th></th>\n",
       "      <th>cement</th>\n",
       "      <th>blast_furnace_slag</th>\n",
       "      <th>fly_ash</th>\n",
       "      <th>water</th>\n",
       "      <th>superplasticizer</th>\n",
       "      <th>coarse_aggregate</th>\n",
       "      <th>fine_aggregate</th>\n",
       "      <th>age</th>\n",
       "      <th>concrete_compressive_strength</th>\n",
       "    </tr>\n",
       "  </thead>\n",
       "  <tbody>\n",
       "    <tr>\n",
       "      <th>0</th>\n",
       "      <td>540.0</td>\n",
       "      <td>0.0</td>\n",
       "      <td>120.288793</td>\n",
       "      <td>162.0</td>\n",
       "      <td>2.5</td>\n",
       "      <td>1040.0</td>\n",
       "      <td>676.0</td>\n",
       "      <td>28</td>\n",
       "      <td>79.99</td>\n",
       "    </tr>\n",
       "    <tr>\n",
       "      <th>1</th>\n",
       "      <td>540.0</td>\n",
       "      <td>0.0</td>\n",
       "      <td>120.288793</td>\n",
       "      <td>162.0</td>\n",
       "      <td>2.5</td>\n",
       "      <td>1055.0</td>\n",
       "      <td>676.0</td>\n",
       "      <td>28</td>\n",
       "      <td>61.89</td>\n",
       "    </tr>\n",
       "    <tr>\n",
       "      <th>2</th>\n",
       "      <td>332.5</td>\n",
       "      <td>142.5</td>\n",
       "      <td>120.288793</td>\n",
       "      <td>228.0</td>\n",
       "      <td>0.0</td>\n",
       "      <td>932.0</td>\n",
       "      <td>594.0</td>\n",
       "      <td>270</td>\n",
       "      <td>40.27</td>\n",
       "    </tr>\n",
       "    <tr>\n",
       "      <th>3</th>\n",
       "      <td>332.5</td>\n",
       "      <td>142.5</td>\n",
       "      <td>120.288793</td>\n",
       "      <td>228.0</td>\n",
       "      <td>0.0</td>\n",
       "      <td>932.0</td>\n",
       "      <td>594.0</td>\n",
       "      <td>365</td>\n",
       "      <td>41.05</td>\n",
       "    </tr>\n",
       "    <tr>\n",
       "      <th>4</th>\n",
       "      <td>198.6</td>\n",
       "      <td>132.4</td>\n",
       "      <td>120.288793</td>\n",
       "      <td>192.0</td>\n",
       "      <td>0.0</td>\n",
       "      <td>978.4</td>\n",
       "      <td>825.5</td>\n",
       "      <td>360</td>\n",
       "      <td>44.30</td>\n",
       "    </tr>\n",
       "  </tbody>\n",
       "</table>\n",
       "</div>"
      ],
      "text/plain": [
       "   cement  blast_furnace_slag     fly_ash  water  superplasticizer  \\\n",
       "0   540.0                 0.0  120.288793  162.0               2.5   \n",
       "1   540.0                 0.0  120.288793  162.0               2.5   \n",
       "2   332.5               142.5  120.288793  228.0               0.0   \n",
       "3   332.5               142.5  120.288793  228.0               0.0   \n",
       "4   198.6               132.4  120.288793  192.0               0.0   \n",
       "\n",
       "   coarse_aggregate  fine_aggregate   age  concrete_compressive_strength  \n",
       "0            1040.0            676.0   28                          79.99  \n",
       "1            1055.0            676.0   28                          61.89  \n",
       "2             932.0            594.0  270                          40.27  \n",
       "3             932.0            594.0  365                          41.05  \n",
       "4             978.4            825.5  360                          44.30  "
      ]
     },
     "execution_count": 23,
     "metadata": {},
     "output_type": "execute_result"
    }
   ],
   "source": [
    "df2 = df.copy()\n",
    "df2.fly_ash.replace(0.0,mean_fly_ash,inplace=True)\n",
    "df2.head()"
   ]
  },
  {
   "cell_type": "markdown",
   "id": "d650de04",
   "metadata": {},
   "source": [
    "### Model Selection"
   ]
  },
  {
   "cell_type": "code",
   "execution_count": 24,
   "id": "acde91f4",
   "metadata": {},
   "outputs": [],
   "source": [
    "x = df2.drop('concrete_compressive_strength',axis=1)\n",
    "y = df2.concrete_compressive_strength"
   ]
  },
  {
   "cell_type": "code",
   "execution_count": 25,
   "id": "fd4503b2",
   "metadata": {},
   "outputs": [
    {
     "data": {
      "text/html": [
       "<div>\n",
       "<style scoped>\n",
       "    .dataframe tbody tr th:only-of-type {\n",
       "        vertical-align: middle;\n",
       "    }\n",
       "\n",
       "    .dataframe tbody tr th {\n",
       "        vertical-align: top;\n",
       "    }\n",
       "\n",
       "    .dataframe thead th {\n",
       "        text-align: right;\n",
       "    }\n",
       "</style>\n",
       "<table border=\"1\" class=\"dataframe\">\n",
       "  <thead>\n",
       "    <tr style=\"text-align: right;\">\n",
       "      <th></th>\n",
       "      <th>cement</th>\n",
       "      <th>blast_furnace_slag</th>\n",
       "      <th>fly_ash</th>\n",
       "      <th>water</th>\n",
       "      <th>superplasticizer</th>\n",
       "      <th>coarse_aggregate</th>\n",
       "      <th>fine_aggregate</th>\n",
       "      <th>age</th>\n",
       "    </tr>\n",
       "  </thead>\n",
       "  <tbody>\n",
       "    <tr>\n",
       "      <th>0</th>\n",
       "      <td>2.477915</td>\n",
       "      <td>-0.856888</td>\n",
       "      <td>-6.294115e-16</td>\n",
       "      <td>-0.916764</td>\n",
       "      <td>-0.620448</td>\n",
       "      <td>0.863154</td>\n",
       "      <td>-1.217670</td>\n",
       "      <td>-0.279733</td>\n",
       "    </tr>\n",
       "    <tr>\n",
       "      <th>1</th>\n",
       "      <td>2.477915</td>\n",
       "      <td>-0.856888</td>\n",
       "      <td>-6.294115e-16</td>\n",
       "      <td>-0.916764</td>\n",
       "      <td>-0.620448</td>\n",
       "      <td>1.056164</td>\n",
       "      <td>-1.217670</td>\n",
       "      <td>-0.279733</td>\n",
       "    </tr>\n",
       "    <tr>\n",
       "      <th>2</th>\n",
       "      <td>0.491425</td>\n",
       "      <td>0.795526</td>\n",
       "      <td>-6.294115e-16</td>\n",
       "      <td>2.175461</td>\n",
       "      <td>-1.039143</td>\n",
       "      <td>-0.526517</td>\n",
       "      <td>-2.240917</td>\n",
       "      <td>3.553066</td>\n",
       "    </tr>\n",
       "    <tr>\n",
       "      <th>3</th>\n",
       "      <td>0.491425</td>\n",
       "      <td>0.795526</td>\n",
       "      <td>-6.294115e-16</td>\n",
       "      <td>2.175461</td>\n",
       "      <td>-1.039143</td>\n",
       "      <td>-0.526517</td>\n",
       "      <td>-2.240917</td>\n",
       "      <td>5.057677</td>\n",
       "    </tr>\n",
       "    <tr>\n",
       "      <th>4</th>\n",
       "      <td>-0.790459</td>\n",
       "      <td>0.678408</td>\n",
       "      <td>-6.294115e-16</td>\n",
       "      <td>0.488793</td>\n",
       "      <td>-1.039143</td>\n",
       "      <td>0.070527</td>\n",
       "      <td>0.647884</td>\n",
       "      <td>4.978487</td>\n",
       "    </tr>\n",
       "    <tr>\n",
       "      <th>...</th>\n",
       "      <td>...</td>\n",
       "      <td>...</td>\n",
       "      <td>...</td>\n",
       "      <td>...</td>\n",
       "      <td>...</td>\n",
       "      <td>...</td>\n",
       "      <td>...</td>\n",
       "      <td>...</td>\n",
       "    </tr>\n",
       "    <tr>\n",
       "      <th>1025</th>\n",
       "      <td>-0.045645</td>\n",
       "      <td>0.488235</td>\n",
       "      <td>-1.328230e+00</td>\n",
       "      <td>-0.092171</td>\n",
       "      <td>0.451410</td>\n",
       "      <td>-1.323005</td>\n",
       "      <td>-0.065893</td>\n",
       "      <td>-0.279733</td>\n",
       "    </tr>\n",
       "    <tr>\n",
       "      <th>1026</th>\n",
       "      <td>0.392819</td>\n",
       "      <td>-0.856888</td>\n",
       "      <td>-2.076708e-01</td>\n",
       "      <td>0.676200</td>\n",
       "      <td>0.702626</td>\n",
       "      <td>-1.994680</td>\n",
       "      <td>0.496893</td>\n",
       "      <td>-0.279733</td>\n",
       "    </tr>\n",
       "    <tr>\n",
       "      <th>1027</th>\n",
       "      <td>-1.270088</td>\n",
       "      <td>0.759579</td>\n",
       "      <td>-5.177071e-01</td>\n",
       "      <td>0.521589</td>\n",
       "      <td>-0.017528</td>\n",
       "      <td>-1.036064</td>\n",
       "      <td>0.080107</td>\n",
       "      <td>-0.279733</td>\n",
       "    </tr>\n",
       "    <tr>\n",
       "      <th>1028</th>\n",
       "      <td>-1.168610</td>\n",
       "      <td>1.308065</td>\n",
       "      <td>-6.294115e-16</td>\n",
       "      <td>-0.279579</td>\n",
       "      <td>0.853356</td>\n",
       "      <td>0.214641</td>\n",
       "      <td>0.191166</td>\n",
       "      <td>-0.279733</td>\n",
       "    </tr>\n",
       "    <tr>\n",
       "      <th>1029</th>\n",
       "      <td>-0.194033</td>\n",
       "      <td>0.308499</td>\n",
       "      <td>-1.859721e+00</td>\n",
       "      <td>0.891719</td>\n",
       "      <td>0.401166</td>\n",
       "      <td>-1.395062</td>\n",
       "      <td>-0.150748</td>\n",
       "      <td>-0.279733</td>\n",
       "    </tr>\n",
       "  </tbody>\n",
       "</table>\n",
       "<p>1030 rows × 8 columns</p>\n",
       "</div>"
      ],
      "text/plain": [
       "        cement  blast_furnace_slag       fly_ash     water  superplasticizer  \\\n",
       "0     2.477915           -0.856888 -6.294115e-16 -0.916764         -0.620448   \n",
       "1     2.477915           -0.856888 -6.294115e-16 -0.916764         -0.620448   \n",
       "2     0.491425            0.795526 -6.294115e-16  2.175461         -1.039143   \n",
       "3     0.491425            0.795526 -6.294115e-16  2.175461         -1.039143   \n",
       "4    -0.790459            0.678408 -6.294115e-16  0.488793         -1.039143   \n",
       "...        ...                 ...           ...       ...               ...   \n",
       "1025 -0.045645            0.488235 -1.328230e+00 -0.092171          0.451410   \n",
       "1026  0.392819           -0.856888 -2.076708e-01  0.676200          0.702626   \n",
       "1027 -1.270088            0.759579 -5.177071e-01  0.521589         -0.017528   \n",
       "1028 -1.168610            1.308065 -6.294115e-16 -0.279579          0.853356   \n",
       "1029 -0.194033            0.308499 -1.859721e+00  0.891719          0.401166   \n",
       "\n",
       "      coarse_aggregate  fine_aggregate        age  \n",
       "0             0.863154        -1.217670 -0.279733  \n",
       "1             1.056164        -1.217670 -0.279733  \n",
       "2            -0.526517        -2.240917  3.553066  \n",
       "3            -0.526517        -2.240917  5.057677  \n",
       "4             0.070527         0.647884  4.978487  \n",
       "...                ...              ...       ...  \n",
       "1025         -1.323005        -0.065893 -0.279733  \n",
       "1026         -1.994680         0.496893 -0.279733  \n",
       "1027         -1.036064         0.080107 -0.279733  \n",
       "1028          0.214641         0.191166 -0.279733  \n",
       "1029         -1.395062        -0.150748 -0.279733  \n",
       "\n",
       "[1030 rows x 8 columns]"
      ]
     },
     "execution_count": 25,
     "metadata": {},
     "output_type": "execute_result"
    }
   ],
   "source": [
    "sc = StandardScaler()\n",
    "x_scaled = sc.fit_transform(x)\n",
    "x_scaled = pd.DataFrame(x_scaled,columns=x.columns)\n",
    "x_scaled"
   ]
  },
  {
   "cell_type": "code",
   "execution_count": 26,
   "id": "ff43eef1",
   "metadata": {},
   "outputs": [],
   "source": [
    "#Splitting data\n",
    "x_train, x_test, y_train, y_test = train_test_split(x_scaled,y,test_size=0.2,random_state=42)"
   ]
  },
  {
   "cell_type": "code",
   "execution_count": 27,
   "id": "929e1cb8",
   "metadata": {},
   "outputs": [],
   "source": [
    "from sklearn.linear_model import SGDRegressor, Lasso, ElasticNet, Ridge\n",
    "from sklearn.svm import SVR\n",
    "from sklearn.ensemble import RandomForestRegressor, AdaBoostRegressor, ExtraTreesRegressor\n",
    "from sklearn.neighbors import KNeighborsRegressor"
   ]
  },
  {
   "cell_type": "code",
   "execution_count": 28,
   "id": "8320b5e3",
   "metadata": {},
   "outputs": [],
   "source": [
    "sgd = SGDRegressor()\n",
    "ls = Lasso()\n",
    "els = ElasticNet()\n",
    "ridge = Ridge()\n",
    "svm = SVR()\n",
    "rfr = RandomForestRegressor()\n",
    "ada = AdaBoostRegressor()\n",
    "etr = ExtraTreesRegressor()\n",
    "knr = KNeighborsRegressor()"
   ]
  },
  {
   "cell_type": "code",
   "execution_count": 29,
   "id": "381ddef3",
   "metadata": {},
   "outputs": [],
   "source": [
    "algo = [sgd,ls,els,ridge,svm,rfr,ada,etr,knr]"
   ]
  },
  {
   "cell_type": "code",
   "execution_count": 30,
   "id": "0fde14d6",
   "metadata": {},
   "outputs": [],
   "source": [
    "model = []\n",
    "accuracy_train = []\n",
    "accuracy_test = []\n",
    "for i in range(len(algo)):\n",
    "    mod = algo[i].fit(x_train,y_train)\n",
    "    accuracy_train.append(mod.score(x_train,y_train))\n",
    "    accuracy_test.append(mod.score(x_test,y_test))\n",
    "    model.append(algo[i])"
   ]
  },
  {
   "cell_type": "code",
   "execution_count": 31,
   "id": "b094cac2",
   "metadata": {},
   "outputs": [
    {
     "data": {
      "text/html": [
       "<div>\n",
       "<style scoped>\n",
       "    .dataframe tbody tr th:only-of-type {\n",
       "        vertical-align: middle;\n",
       "    }\n",
       "\n",
       "    .dataframe tbody tr th {\n",
       "        vertical-align: top;\n",
       "    }\n",
       "\n",
       "    .dataframe thead th {\n",
       "        text-align: right;\n",
       "    }\n",
       "</style>\n",
       "<table border=\"1\" class=\"dataframe\">\n",
       "  <thead>\n",
       "    <tr style=\"text-align: right;\">\n",
       "      <th></th>\n",
       "      <th>Model</th>\n",
       "      <th>Train_accuracy</th>\n",
       "      <th>Test_accuracy</th>\n",
       "    </tr>\n",
       "  </thead>\n",
       "  <tbody>\n",
       "    <tr>\n",
       "      <th>0</th>\n",
       "      <td>SGDRegressor()</td>\n",
       "      <td>0.599602</td>\n",
       "      <td>0.606649</td>\n",
       "    </tr>\n",
       "    <tr>\n",
       "      <th>1</th>\n",
       "      <td>Lasso()</td>\n",
       "      <td>0.567251</td>\n",
       "      <td>0.563558</td>\n",
       "    </tr>\n",
       "    <tr>\n",
       "      <th>2</th>\n",
       "      <td>ElasticNet()</td>\n",
       "      <td>0.503067</td>\n",
       "      <td>0.522418</td>\n",
       "    </tr>\n",
       "    <tr>\n",
       "      <th>3</th>\n",
       "      <td>Ridge()</td>\n",
       "      <td>0.599801</td>\n",
       "      <td>0.612034</td>\n",
       "    </tr>\n",
       "    <tr>\n",
       "      <th>4</th>\n",
       "      <td>SVR()</td>\n",
       "      <td>0.666537</td>\n",
       "      <td>0.663702</td>\n",
       "    </tr>\n",
       "    <tr>\n",
       "      <th>5</th>\n",
       "      <td>(DecisionTreeRegressor(max_features=1.0, rando...</td>\n",
       "      <td>0.986145</td>\n",
       "      <td>0.879410</td>\n",
       "    </tr>\n",
       "    <tr>\n",
       "      <th>6</th>\n",
       "      <td>(DecisionTreeRegressor(max_depth=3, random_sta...</td>\n",
       "      <td>0.827016</td>\n",
       "      <td>0.759540</td>\n",
       "    </tr>\n",
       "    <tr>\n",
       "      <th>7</th>\n",
       "      <td>(ExtraTreeRegressor(random_state=172260128), E...</td>\n",
       "      <td>0.996939</td>\n",
       "      <td>0.888787</td>\n",
       "    </tr>\n",
       "    <tr>\n",
       "      <th>8</th>\n",
       "      <td>KNeighborsRegressor()</td>\n",
       "      <td>0.815113</td>\n",
       "      <td>0.711526</td>\n",
       "    </tr>\n",
       "  </tbody>\n",
       "</table>\n",
       "</div>"
      ],
      "text/plain": [
       "                                               Model  Train_accuracy  \\\n",
       "0                                     SGDRegressor()        0.599602   \n",
       "1                                            Lasso()        0.567251   \n",
       "2                                       ElasticNet()        0.503067   \n",
       "3                                            Ridge()        0.599801   \n",
       "4                                              SVR()        0.666537   \n",
       "5  (DecisionTreeRegressor(max_features=1.0, rando...        0.986145   \n",
       "6  (DecisionTreeRegressor(max_depth=3, random_sta...        0.827016   \n",
       "7  (ExtraTreeRegressor(random_state=172260128), E...        0.996939   \n",
       "8                              KNeighborsRegressor()        0.815113   \n",
       "\n",
       "   Test_accuracy  \n",
       "0       0.606649  \n",
       "1       0.563558  \n",
       "2       0.522418  \n",
       "3       0.612034  \n",
       "4       0.663702  \n",
       "5       0.879410  \n",
       "6       0.759540  \n",
       "7       0.888787  \n",
       "8       0.711526  "
      ]
     },
     "execution_count": 31,
     "metadata": {},
     "output_type": "execute_result"
    }
   ],
   "source": [
    "model_df = pd.DataFrame(list(zip(model,accuracy_train,accuracy_test)),columns=['Model','Train_accuracy','Test_accuracy'])\n",
    "model_df"
   ]
  },
  {
   "cell_type": "markdown",
   "id": "5d002791",
   "metadata": {},
   "source": [
    "_Extra Tree Regressor gives us maximum accuracy_"
   ]
  },
  {
   "cell_type": "markdown",
   "id": "556d0a09",
   "metadata": {},
   "source": [
    "### Model Building"
   ]
  },
  {
   "cell_type": "code",
   "execution_count": 32,
   "id": "c90f31bc",
   "metadata": {},
   "outputs": [],
   "source": [
    "etr1 = ExtraTreesRegressor()"
   ]
  },
  {
   "cell_type": "code",
   "execution_count": 33,
   "id": "bb658a59",
   "metadata": {},
   "outputs": [],
   "source": [
    "rg = []\n",
    "score = []\n",
    "for i in range(1,200,1):\n",
    "    x_train, x_test, y_train, y_test = train_test_split(x_scaled,y,test_size=0.2,random_state=i)\n",
    "    etr1.fit(x_train,y_train)\n",
    "    score.append(etr1.score(x_test,y_test))\n",
    "    rg.append(i)"
   ]
  },
  {
   "cell_type": "code",
   "execution_count": 52,
   "id": "47ff8d2c",
   "metadata": {},
   "outputs": [
    {
     "data": {
      "text/plain": [
       "[<matplotlib.lines.Line2D at 0x7fb5480ac820>]"
      ]
     },
     "execution_count": 52,
     "metadata": {},
     "output_type": "execute_result"
    },
    {
     "data": {
      "image/png": "[encoded data removed]",
      "text/plain": [
       "<Figure size 2000x500 with 1 Axes>"
      ]
     },
     "metadata": {},
     "output_type": "display_data"
    }
   ],
   "source": [
    "plt.figure(figsize=(20,5))\n",
    "plt.plot(rg,score)"
   ]
  },
  {
   "cell_type": "code",
   "execution_count": 35,
   "id": "ee96c697",
   "metadata": {},
   "outputs": [
    {
     "data": {
      "text/plain": [
       "0.9517676102510856"
      ]
     },
     "execution_count": 35,
     "metadata": {},
     "output_type": "execute_result"
    }
   ],
   "source": [
    "max_score = max(score)\n",
    "max_score"
   ]
  },
  {
   "cell_type": "code",
   "execution_count": 36,
   "id": "cfe5e2ec",
   "metadata": {},
   "outputs": [
    {
     "data": {
      "text/plain": [
       "76"
      ]
     },
     "execution_count": 36,
     "metadata": {},
     "output_type": "execute_result"
    }
   ],
   "source": [
    "score.index(max_score)"
   ]
  },
  {
   "cell_type": "code",
   "execution_count": 37,
   "id": "530b83b6",
   "metadata": {},
   "outputs": [
    {
     "data": {
      "text/plain": [
       "77"
      ]
     },
     "execution_count": 37,
     "metadata": {},
     "output_type": "execute_result"
    }
   ],
   "source": [
    "rg[76]"
   ]
  },
  {
   "cell_type": "code",
   "execution_count": 38,
   "id": "d0c90fb3",
   "metadata": {},
   "outputs": [
    {
     "name": "stdout",
     "output_type": "stream",
     "text": [
      "1 0.9008949676259566\n",
      "2 0.8967284541180934\n",
      "3 0.9220487042165333\n",
      "4 0.9263826369509877\n",
      "5 0.8861802149885318\n",
      "6 0.9399637358033063\n",
      "7 0.9397119118650715\n",
      "8 0.9152135007715019\n",
      "9 0.8590075873586659\n",
      "10 0.9189778709329617\n",
      "11 0.9362394435412774\n",
      "12 0.9138762312367446\n",
      "13 0.8505882079646647\n",
      "14 0.9124878879794508\n",
      "15 0.9405568786082893\n",
      "16 0.9143983267014196\n",
      "17 0.9038150467504027\n",
      "18 0.9095566833184867\n",
      "19 0.9175849193544526\n",
      "20 0.9040738580507599\n",
      "21 0.91405017071441\n",
      "22 0.9368517534371399\n",
      "23 0.904939970264728\n",
      "24 0.9245956184557915\n",
      "25 0.9190372595864391\n",
      "26 0.9083490431487102\n",
      "27 0.9197818382210962\n",
      "28 0.8940788981233907\n",
      "29 0.9212773655511872\n",
      "30 0.9020600109091126\n",
      "31 0.9143959155246764\n",
      "32 0.9142456633854334\n",
      "33 0.9303296072089828\n",
      "34 0.9088908547683822\n",
      "35 0.8848266250057186\n",
      "36 0.9372710769427602\n",
      "37 0.9183596495355005\n",
      "38 0.9289472469230831\n",
      "39 0.9397223888134272\n",
      "40 0.8879752975978412\n",
      "41 0.9313044025643811\n",
      "42 0.8884447317868693\n",
      "43 0.8852502106962027\n",
      "44 0.9211381215642296\n",
      "45 0.9179346345448411\n",
      "46 0.9281085437718439\n",
      "47 0.9244950521318112\n",
      "48 0.8964936349236613\n",
      "49 0.9036843885606836\n",
      "50 0.9145225837146669\n",
      "51 0.903629104283908\n",
      "52 0.9106387852887572\n",
      "53 0.921307079551968\n",
      "54 0.8874766043643266\n",
      "55 0.8884703876962183\n",
      "56 0.9168831346020593\n",
      "57 0.9400559875444644\n",
      "58 0.90269069416417\n",
      "59 0.9054908687069806\n",
      "60 0.9088552876639879\n",
      "61 0.9100524239143555\n",
      "62 0.9208459039550824\n",
      "63 0.9292939984126443\n",
      "64 0.9101662338485182\n",
      "65 0.9411229131906611\n",
      "66 0.928929128504028\n",
      "67 0.9042354173676396\n",
      "68 0.9064899386972465\n",
      "69 0.9409541882515762\n",
      "70 0.9089768752732115\n",
      "71 0.9180259808803382\n",
      "72 0.9259180804268033\n",
      "73 0.9232545999553694\n",
      "74 0.9217116260568897\n",
      "75 0.9025180884155138\n",
      "76 0.9185104132829669\n",
      "77 0.9517676102510856\n",
      "78 0.897623018320575\n",
      "79 0.9159602580469419\n",
      "80 0.9378584498756714\n",
      "81 0.9169583723616153\n",
      "82 0.9168075831973671\n",
      "83 0.923872888488802\n",
      "84 0.935318655167467\n",
      "85 0.92345348162107\n",
      "86 0.9081578180667531\n",
      "87 0.9143903734252915\n",
      "88 0.9054422053655392\n",
      "89 0.9212212519891531\n",
      "90 0.9386602460611907\n",
      "91 0.9420081163098519\n",
      "92 0.9425855451497863\n",
      "93 0.9196707583240222\n",
      "94 0.922483215181219\n",
      "95 0.9300859786068966\n",
      "96 0.9141921923111858\n",
      "97 0.924572625557616\n",
      "98 0.908231479070147\n",
      "99 0.9321724415651879\n",
      "100 0.8972992012860936\n",
      "101 0.9097119711723453\n",
      "102 0.9274557451689205\n",
      "103 0.8746471177452092\n",
      "104 0.9338965107847566\n",
      "105 0.9034024987032174\n",
      "106 0.8891384363968459\n",
      "107 0.9179130266234127\n",
      "108 0.9065025057083955\n",
      "109 0.9300879696265475\n",
      "110 0.8899225449350942\n",
      "111 0.8947158226959593\n",
      "112 0.85191751237748\n",
      "113 0.9439785186741358\n",
      "114 0.9102080807811089\n",
      "115 0.918839068644768\n",
      "116 0.9410346963670353\n",
      "117 0.9200141333365724\n",
      "118 0.9423002265636742\n",
      "119 0.9334375400417492\n",
      "120 0.8979317457166117\n",
      "121 0.9069941130056361\n",
      "122 0.9231661046541106\n",
      "123 0.9052983371292405\n",
      "124 0.9001804552192079\n",
      "125 0.909581133324628\n",
      "126 0.9161431821966135\n",
      "127 0.9097418254686264\n",
      "128 0.9258638289400539\n",
      "129 0.900594327432353\n",
      "130 0.8934909388533574\n",
      "131 0.9230398691594045\n",
      "132 0.9026756356312948\n",
      "133 0.9149925435984438\n",
      "134 0.9341850332677493\n",
      "135 0.8979471637745244\n",
      "136 0.8980501667172607\n",
      "137 0.9258896122125828\n",
      "138 0.9211323931011528\n",
      "139 0.8970126894908207\n",
      "140 0.8953441460109718\n",
      "141 0.926939577558927\n",
      "142 0.9431059470639643\n",
      "143 0.9326455462402581\n",
      "144 0.9266394819470722\n",
      "145 0.9329372598113471\n",
      "146 0.9423115611887203\n",
      "147 0.9308762082635426\n",
      "148 0.9119988936529203\n",
      "149 0.9323228046371038\n",
      "150 0.9001611974024458\n",
      "151 0.9062502798184204\n",
      "152 0.9066597587167458\n",
      "153 0.9148065558471211\n",
      "154 0.9348217932718514\n",
      "155 0.9165000683856354\n",
      "156 0.8935813452666462\n",
      "157 0.9080334372743878\n",
      "158 0.9168165998883961\n",
      "159 0.9286480389709784\n",
      "160 0.9194371335389261\n",
      "161 0.9100033068975462\n",
      "162 0.9180038111402593\n",
      "163 0.9312563360390859\n",
      "164 0.9332317998114452\n",
      "165 0.9197205864174074\n",
      "166 0.9368933726413069\n",
      "167 0.8947714252031695\n",
      "168 0.9415900557821826\n",
      "169 0.9230344886109499\n",
      "170 0.926580682525391\n",
      "171 0.9034456886852535\n",
      "172 0.9349630634698934\n",
      "173 0.9244722960234864\n",
      "174 0.8993439281397495\n",
      "175 0.8878096376802824\n",
      "176 0.9300956843050978\n",
      "177 0.9133957457148131\n",
      "178 0.941124811222842\n",
      "179 0.9226080084777963\n",
      "180 0.9400717210234967\n",
      "181 0.9118372384680441\n",
      "182 0.9399020845664767\n",
      "183 0.9324137145058106\n",
      "184 0.9279800086481307\n",
      "185 0.935907710527872\n",
      "186 0.9209015508978607\n",
      "187 0.93677113620941\n",
      "188 0.9324529241391222\n",
      "189 0.9333915316794187\n",
      "190 0.9252455226844121\n",
      "191 0.8890145977074728\n",
      "192 0.8899940818566636\n",
      "193 0.9210429725495645\n",
      "194 0.9278542008937016\n",
      "195 0.9205593770256694\n",
      "196 0.9302562096242042\n",
      "197 0.9180815781892409\n",
      "198 0.9123116218549333\n",
      "199 0.9076730563225776\n"
     ]
    }
   ],
   "source": [
    "for i in range(len(score)):\n",
    "    print(rg[i],score[i])"
   ]
  },
  {
   "cell_type": "markdown",
   "id": "42003931",
   "metadata": {},
   "source": [
    "so, at random state = 77, we get maximum accuracy"
   ]
  },
  {
   "cell_type": "code",
   "execution_count": 39,
   "id": "f0290bd4",
   "metadata": {},
   "outputs": [],
   "source": [
    "x_train,x_test,y_train,y_test=train_test_split(x_scaled,y,test_size=0.2,random_state=77)"
   ]
  },
  {
   "cell_type": "code",
   "execution_count": 40,
   "id": "fdcb38e9",
   "metadata": {},
   "outputs": [
    {
     "data": {
      "text/plain": [
       "(0.947631196672472, 0.9950303996417782)"
      ]
     },
     "execution_count": 40,
     "metadata": {},
     "output_type": "execute_result"
    }
   ],
   "source": [
    "etr1.fit(x_train,y_train)\n",
    "etr1.score(x_test,y_test),etr1.score(x_train,y_train)"
   ]
  },
  {
   "cell_type": "code",
   "execution_count": 41,
   "id": "69051bfe",
   "metadata": {},
   "outputs": [],
   "source": [
    "y_pred = etr1.predict(x_test)"
   ]
  },
  {
   "cell_type": "code",
   "execution_count": 42,
   "id": "63253206",
   "metadata": {},
   "outputs": [],
   "source": [
    "from sklearn.metrics import mean_squared_error"
   ]
  },
  {
   "cell_type": "code",
   "execution_count": 43,
   "id": "e61f0712",
   "metadata": {},
   "outputs": [
    {
     "data": {
      "text/plain": [
       "3.912165668183741"
      ]
     },
     "execution_count": 43,
     "metadata": {},
     "output_type": "execute_result"
    }
   ],
   "source": [
    "rmsq = np.sqrt(mean_squared_error(y_test,y_pred))\n",
    "rmsq"
   ]
  },
  {
   "cell_type": "markdown",
   "id": "26c80cfc",
   "metadata": {},
   "source": [
    "a root mean square error of 3.8 shows that our model is good"
   ]
  },
  {
   "cell_type": "code",
   "execution_count": 44,
   "id": "f56b8e46",
   "metadata": {},
   "outputs": [],
   "source": [
    "etr_grid = {'n_estimators': np.arange(0,1000,10),\n",
    "           'criterion': ['squared_error', 'absolute_error', 'friedman_mse', 'poisson', 'mean_absolute_error'],\n",
    "           'max_features': ['sqrt', 'log2', 1.0, np.arange(0,1,0.1)],\n",
    "           'n_jobs': [-1]}"
   ]
  },
  {
   "cell_type": "code",
   "execution_count": 53,
   "id": "b3242c31",
   "metadata": {},
   "outputs": [
    {
     "name": "stdout",
     "output_type": "stream",
     "text": [
      "Fitting 5 folds for each of 10 candidates, totalling 50 fits\n"
     ]
    },
    {
     "name": "stderr",
     "output_type": "stream",
     "text": [
      "/Users/aniketgaldhar/Desktop/ml/ineuron/env/lib/python3.10/site-packages/sklearn/model_selection/_validation.py:378: FitFailedWarning: \n",
      "20 fits failed out of a total of 50.\n",
      "The score on these train-test partitions for these parameters will be set to nan.\n",
      "If these failures are not expected, you can try to debug them by setting error_score='raise'.\n",
      "\n",
      "Below are more details about the failures:\n",
      "--------------------------------------------------------------------------------\n",
      "15 fits failed with the following error:\n",
      "Traceback (most recent call last):\n",
      "  File \"/Users/aniketgaldhar/Desktop/ml/ineuron/env/lib/python3.10/site-packages/sklearn/model_selection/_validation.py\", line 686, in _fit_and_score\n",
      "    estimator.fit(X_train, y_train, **fit_params)\n",
      "  File \"/Users/aniketgaldhar/Desktop/ml/ineuron/env/lib/python3.10/site-packages/sklearn/ensemble/_forest.py\", line 340, in fit\n",
      "    self._validate_params()\n",
      "  File \"/Users/aniketgaldhar/Desktop/ml/ineuron/env/lib/python3.10/site-packages/sklearn/base.py\", line 581, in _validate_params\n",
      "    validate_parameter_constraints(\n",
      "  File \"/Users/aniketgaldhar/Desktop/ml/ineuron/env/lib/python3.10/site-packages/sklearn/utils/_param_validation.py\", line 97, in validate_parameter_constraints\n",
      "    raise InvalidParameterError(\n",
      "sklearn.utils._param_validation.InvalidParameterError: The 'max_features' parameter of ExtraTreesRegressor must be an int in the range [1, inf), a float in the range (0.0, 1.0], a str among {'sqrt', 'log2', 'auto' (deprecated)} or None. Got array([0. , 0.1, 0.2, 0.3, 0.4, 0.5, 0.6, 0.7, 0.8, 0.9]) instead.\n",
      "\n",
      "--------------------------------------------------------------------------------\n",
      "5 fits failed with the following error:\n",
      "Traceback (most recent call last):\n",
      "  File \"/Users/aniketgaldhar/Desktop/ml/ineuron/env/lib/python3.10/site-packages/sklearn/model_selection/_validation.py\", line 686, in _fit_and_score\n",
      "    estimator.fit(X_train, y_train, **fit_params)\n",
      "  File \"/Users/aniketgaldhar/Desktop/ml/ineuron/env/lib/python3.10/site-packages/sklearn/ensemble/_forest.py\", line 340, in fit\n",
      "    self._validate_params()\n",
      "  File \"/Users/aniketgaldhar/Desktop/ml/ineuron/env/lib/python3.10/site-packages/sklearn/base.py\", line 581, in _validate_params\n",
      "    validate_parameter_constraints(\n",
      "  File \"/Users/aniketgaldhar/Desktop/ml/ineuron/env/lib/python3.10/site-packages/sklearn/utils/_param_validation.py\", line 97, in validate_parameter_constraints\n",
      "    raise InvalidParameterError(\n",
      "sklearn.utils._param_validation.InvalidParameterError: The 'criterion' parameter of ExtraTreesRegressor must be a str among {'friedman_mse', 'poisson', 'squared_error', 'absolute_error'}. Got 'mean_absolute_error' instead.\n",
      "\n",
      "  warnings.warn(some_fits_failed_message, FitFailedWarning)\n",
      "/Users/aniketgaldhar/Desktop/ml/ineuron/env/lib/python3.10/site-packages/sklearn/model_selection/_search.py:952: UserWarning: One or more of the test scores are non-finite: [0.88322213        nan        nan 0.85874043 0.89086294 0.88342838\n",
      "        nan 0.89081569 0.89083879        nan]\n",
      "  warnings.warn(\n"
     ]
    },
    {
     "data": {
      "text/html": [
       "<style>#sk-container-id-1 {color: black;background-color: white;}#sk-container-id-1 pre{padding: 0;}#sk-container-id-1 div.sk-toggleable {background-color: white;}#sk-container-id-1 label.sk-toggleable__label {cursor: pointer;display: block;width: 100%;margin-bottom: 0;padding: 0.3em;box-sizing: border-box;text-align: center;}#sk-container-id-1 label.sk-toggleable__label-arrow:before {content: \"▸\";float: left;margin-right: 0.25em;color: #696969;}#sk-container-id-1 label.sk-toggleable__label-arrow:hover:before {color: black;}#sk-container-id-1 div.sk-estimator:hover label.sk-toggleable__label-arrow:before {color: black;}#sk-container-id-1 div.sk-toggleable__content {max-height: 0;max-width: 0;overflow: hidden;text-align: left;background-color: #f0f8ff;}#sk-container-id-1 div.sk-toggleable__content pre {margin: 0.2em;color: black;border-radius: 0.25em;background-color: #f0f8ff;}#sk-container-id-1 input.sk-toggleable__control:checked~div.sk-toggleable__content {max-height: 200px;max-width: 100%;overflow: auto;}#sk-container-id-1 input.sk-toggleable__control:checked~label.sk-toggleable__label-arrow:before {content: \"▾\";}#sk-container-id-1 div.sk-estimator input.sk-toggleable__control:checked~label.sk-toggleable__label {background-color: #d4ebff;}#sk-container-id-1 div.sk-label input.sk-toggleable__control:checked~label.sk-toggleable__label {background-color: #d4ebff;}#sk-container-id-1 input.sk-hidden--visually {border: 0;clip: rect(1px 1px 1px 1px);clip: rect(1px, 1px, 1px, 1px);height: 1px;margin: -1px;overflow: hidden;padding: 0;position: absolute;width: 1px;}#sk-container-id-1 div.sk-estimator {font-family: monospace;background-color: #f0f8ff;border: 1px dotted black;border-radius: 0.25em;box-sizing: border-box;margin-bottom: 0.5em;}#sk-container-id-1 div.sk-estimator:hover {background-color: #d4ebff;}#sk-container-id-1 div.sk-parallel-item::after {content: \"\";width: 100%;border-bottom: 1px solid gray;flex-grow: 1;}#sk-container-id-1 div.sk-label:hover label.sk-toggleable__label {background-color: #d4ebff;}#sk-container-id-1 div.sk-serial::before {content: \"\";position: absolute;border-left: 1px solid gray;box-sizing: border-box;top: 0;bottom: 0;left: 50%;z-index: 0;}#sk-container-id-1 div.sk-serial {display: flex;flex-direction: column;align-items: center;background-color: white;padding-right: 0.2em;padding-left: 0.2em;position: relative;}#sk-container-id-1 div.sk-item {position: relative;z-index: 1;}#sk-container-id-1 div.sk-parallel {display: flex;align-items: stretch;justify-content: center;background-color: white;position: relative;}#sk-container-id-1 div.sk-item::before, #sk-container-id-1 div.sk-parallel-item::before {content: \"\";position: absolute;border-left: 1px solid gray;box-sizing: border-box;top: 0;bottom: 0;left: 50%;z-index: -1;}#sk-container-id-1 div.sk-parallel-item {display: flex;flex-direction: column;z-index: 1;position: relative;background-color: white;}#sk-container-id-1 div.sk-parallel-item:first-child::after {align-self: flex-end;width: 50%;}#sk-container-id-1 div.sk-parallel-item:last-child::after {align-self: flex-start;width: 50%;}#sk-container-id-1 div.sk-parallel-item:only-child::after {width: 0;}#sk-container-id-1 div.sk-dashed-wrapped {border: 1px dashed gray;margin: 0 0.4em 0.5em 0.4em;box-sizing: border-box;padding-bottom: 0.4em;background-color: white;}#sk-container-id-1 div.sk-label label {font-family: monospace;font-weight: bold;display: inline-block;line-height: 1.2em;}#sk-container-id-1 div.sk-label-container {text-align: center;}#sk-container-id-1 div.sk-container {/* jupyter's `normalize.less` sets `[hidden] { display: none; }` but bootstrap.min.css set `[hidden] { display: none !important; }` so we also need the `!important` here to be able to override the default hidden behavior on the sphinx rendered scikit-learn.org. See: https://github.com/scikit-learn/scikit-learn/issues/21755 */display: inline-block !important;position: relative;}#sk-container-id-1 div.sk-text-repr-fallback {display: none;}</style><div id=\"sk-container-id-1\" class=\"sk-top-container\"><div class=\"sk-text-repr-fallback\"><pre>RandomizedSearchCV(cv=5, estimator=ExtraTreesRegressor(),\n",
       "                   param_distributions={&#x27;criterion&#x27;: [&#x27;squared_error&#x27;,\n",
       "                                                      &#x27;absolute_error&#x27;,\n",
       "                                                      &#x27;friedman_mse&#x27;, &#x27;poisson&#x27;,\n",
       "                                                      &#x27;mean_absolute_error&#x27;],\n",
       "                                        &#x27;max_features&#x27;: [&#x27;sqrt&#x27;, &#x27;log2&#x27;, 1.0,\n",
       "                                                         array([0. , 0.1, 0.2, 0.3, 0.4, 0.5, 0.6, 0.7, 0.8, 0.9])],\n",
       "                                        &#x27;n_estimators&#x27;: array([  0,  10,  20,  30,  40,  50,  60,  70,  80,  90, 100, 110, 120,\n",
       "       130, 140, 150, 160, 170, 180, 190, 200, 210, 220, 230, 240, 250,\n",
       "       260, 270, 280, 290, 300, 310, 320, 330, 340, 350, 360, 370, 380,\n",
       "       390, 400, 410, 420, 430, 440, 450, 460, 470, 480, 490, 500, 510,\n",
       "       520, 530, 540, 550, 560, 570, 580, 590, 600, 610, 620, 630, 640,\n",
       "       650, 660, 670, 680, 690, 700, 710, 720, 730, 740, 750, 760, 770,\n",
       "       780, 790, 800, 810, 820, 830, 840, 850, 860, 870, 880, 890, 900,\n",
       "       910, 920, 930, 940, 950, 960, 970, 980, 990]),\n",
       "                                        &#x27;n_jobs&#x27;: [-1]},\n",
       "                   verbose=True)</pre><b>In a Jupyter environment, please rerun this cell to show the HTML representation or trust the notebook. <br />On GitHub, the HTML representation is unable to render, please try loading this page with nbviewer.org.</b></div><div class=\"sk-container\" hidden><div class=\"sk-item sk-dashed-wrapped\"><div class=\"sk-label-container\"><div class=\"sk-label sk-toggleable\"><input class=\"sk-toggleable__control sk-hidden--visually\" id=\"sk-estimator-id-1\" type=\"checkbox\" ><label for=\"sk-estimator-id-1\" class=\"sk-toggleable__label sk-toggleable__label-arrow\">RandomizedSearchCV</label><div class=\"sk-toggleable__content\"><pre>RandomizedSearchCV(cv=5, estimator=ExtraTreesRegressor(),\n",
       "                   param_distributions={&#x27;criterion&#x27;: [&#x27;squared_error&#x27;,\n",
       "                                                      &#x27;absolute_error&#x27;,\n",
       "                                                      &#x27;friedman_mse&#x27;, &#x27;poisson&#x27;,\n",
       "                                                      &#x27;mean_absolute_error&#x27;],\n",
       "                                        &#x27;max_features&#x27;: [&#x27;sqrt&#x27;, &#x27;log2&#x27;, 1.0,\n",
       "                                                         array([0. , 0.1, 0.2, 0.3, 0.4, 0.5, 0.6, 0.7, 0.8, 0.9])],\n",
       "                                        &#x27;n_estimators&#x27;: array([  0,  10,  20,  30,  40,  50,  60,  70,  80,  90, 100, 110, 120,\n",
       "       130, 140, 150, 160, 170, 180, 190, 200, 210, 220, 230, 240, 250,\n",
       "       260, 270, 280, 290, 300, 310, 320, 330, 340, 350, 360, 370, 380,\n",
       "       390, 400, 410, 420, 430, 440, 450, 460, 470, 480, 490, 500, 510,\n",
       "       520, 530, 540, 550, 560, 570, 580, 590, 600, 610, 620, 630, 640,\n",
       "       650, 660, 670, 680, 690, 700, 710, 720, 730, 740, 750, 760, 770,\n",
       "       780, 790, 800, 810, 820, 830, 840, 850, 860, 870, 880, 890, 900,\n",
       "       910, 920, 930, 940, 950, 960, 970, 980, 990]),\n",
       "                                        &#x27;n_jobs&#x27;: [-1]},\n",
       "                   verbose=True)</pre></div></div></div><div class=\"sk-parallel\"><div class=\"sk-parallel-item\"><div class=\"sk-item\"><div class=\"sk-label-container\"><div class=\"sk-label sk-toggleable\"><input class=\"sk-toggleable__control sk-hidden--visually\" id=\"sk-estimator-id-2\" type=\"checkbox\" ><label for=\"sk-estimator-id-2\" class=\"sk-toggleable__label sk-toggleable__label-arrow\">estimator: ExtraTreesRegressor</label><div class=\"sk-toggleable__content\"><pre>ExtraTreesRegressor()</pre></div></div></div><div class=\"sk-serial\"><div class=\"sk-item\"><div class=\"sk-estimator sk-toggleable\"><input class=\"sk-toggleable__control sk-hidden--visually\" id=\"sk-estimator-id-3\" type=\"checkbox\" ><label for=\"sk-estimator-id-3\" class=\"sk-toggleable__label sk-toggleable__label-arrow\">ExtraTreesRegressor</label><div class=\"sk-toggleable__content\"><pre>ExtraTreesRegressor()</pre></div></div></div></div></div></div></div></div></div></div>"
      ],
      "text/plain": [
       "RandomizedSearchCV(cv=5, estimator=ExtraTreesRegressor(),\n",
       "                   param_distributions={'criterion': ['squared_error',\n",
       "                                                      'absolute_error',\n",
       "                                                      'friedman_mse', 'poisson',\n",
       "                                                      'mean_absolute_error'],\n",
       "                                        'max_features': ['sqrt', 'log2', 1.0,\n",
       "                                                         array([0. , 0.1, 0.2, 0.3, 0.4, 0.5, 0.6, 0.7, 0.8, 0.9])],\n",
       "                                        'n_estimators': array([  0,  10,  20,  30,  40,  50,  60,  70,  80,  90, 100, 110, 120,\n",
       "       130, 140, 150, 160, 170, 180, 190, 200, 210, 220, 230, 240, 250,\n",
       "       260, 270, 280, 290, 300, 310, 320, 330, 340, 350, 360, 370, 380,\n",
       "       390, 400, 410, 420, 430, 440, 450, 460, 470, 480, 490, 500, 510,\n",
       "       520, 530, 540, 550, 560, 570, 580, 590, 600, 610, 620, 630, 640,\n",
       "       650, 660, 670, 680, 690, 700, 710, 720, 730, 740, 750, 760, 770,\n",
       "       780, 790, 800, 810, 820, 830, 840, 850, 860, 870, 880, 890, 900,\n",
       "       910, 920, 930, 940, 950, 960, 970, 980, 990]),\n",
       "                                        'n_jobs': [-1]},\n",
       "                   verbose=True)"
      ]
     },
     "execution_count": 53,
     "metadata": {},
     "output_type": "execute_result"
    }
   ],
   "source": [
    "# gs_etr = GridSearchCV(ExtraTreesRegressor(),\n",
    "#                      param_grid=etr_grid,\n",
    "#                      cv=5,\n",
    "#                      verbose=True)\n",
    "# gs_etr.fit(x_train,y_train)\n",
    "\n",
    "rs_etr = RandomizedSearchCV(ExtraTreesRegressor(),\n",
    "                           param_distributions=etr_grid,\n",
    "                           cv=5,\n",
    "                           verbose=True)\n",
    "rs_etr.fit(x_train,y_train)"
   ]
  },
  {
   "cell_type": "code",
   "execution_count": 54,
   "id": "f531115b",
   "metadata": {},
   "outputs": [
    {
     "data": {
      "text/plain": [
       "0.9522618699797645"
      ]
     },
     "execution_count": 54,
     "metadata": {},
     "output_type": "execute_result"
    }
   ],
   "source": [
    "rs_etr.score(x_test,y_test)"
   ]
  },
  {
   "cell_type": "code",
   "execution_count": 55,
   "id": "8dbef109",
   "metadata": {},
   "outputs": [
    {
     "data": {
      "text/plain": [
       "{'n_jobs': -1,\n",
       " 'n_estimators': 100,\n",
       " 'max_features': 1.0,\n",
       " 'criterion': 'poisson'}"
      ]
     },
     "execution_count": 55,
     "metadata": {},
     "output_type": "execute_result"
    }
   ],
   "source": [
    "rs_etr.best_params_"
   ]
  },
  {
   "cell_type": "code",
   "execution_count": null,
   "id": "307dd0fd",
   "metadata": {},
   "outputs": [],
   "source": [
    "# gs_etr.score(x_test,y_test)"
   ]
  },
  {
   "cell_type": "code",
   "execution_count": null,
   "id": "c03d26ab",
   "metadata": {},
   "outputs": [],
   "source": [
    "# gs_etr.best_params_"
   ]
  },
  {
   "cell_type": "code",
   "execution_count": null,
   "id": "5a7330c4",
   "metadata": {},
   "outputs": [],
   "source": []
  }
 ],
 "metadata": {
  "kernelspec": {
   "display_name": "Python 3 (ipykernel)",
   "language": "python",
   "name": "python3"
  },
  "language_info": {
   "codemirror_mode": {
    "name": "ipython",
    "version": 3
   },
   "file_extension": ".py",
   "mimetype": "text/x-python",
   "name": "python",
   "nbconvert_exporter": "python",
   "pygments_lexer": "ipython3",
   "version": "3.10.9"
  }
 },
 "nbformat": 4,
 "nbformat_minor": 5
}
